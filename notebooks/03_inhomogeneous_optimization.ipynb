{
 "cells": [
  {
   "cell_type": "markdown",
   "metadata": {},
   "source": [
    "# Inhomogeneous Media Optimization: Refractive Path Finding\n",
    "\n",
    "This notebook demonstrates path optimization in media with varying refractive indices,\n",
    "analogous to light refraction (Snell's law).\n",
    "\n",
    "## Theory\n",
    "\n",
    "In a medium with refractive index $\\nu(\\mathbf{x})$, the optical path length is:\n",
    "\n",
    "$$L = \\int \\nu(\\mathbf{x}) \\, ds$$\n",
    "\n",
    "Agents minimize this by responding to:\n",
    "1. **Pheromone gradients** from previous successful paths\n",
    "2. **Refractive index gradients** $\\nabla \\ln \\nu$\n",
    "3. **Goal attraction** toward the target\n",
    "\n",
    "This naturally produces paths obeying Snell's law at interfaces."
   ]
  },
  {
   "cell_type": "code",
   "execution_count": null,
   "metadata": {},
   "outputs": [],
   "source": [
    "import sys\n",
    "sys.path.append('../')\n",
    "\n",
    "from src.inhomogeneous_optimization import (\n",
    "    run_inhomogeneous_optimization_experiment,\n",
    "    plot_inhomogeneous_results\n",
    ")\n",
    "\n",
    "import matplotlib.pyplot as plt"
   ]
  },
  {
   "cell_type": "markdown",
   "metadata": {},
   "source": [
    "## Run Optimization Experiment\n",
    "\n",
    "Optimize paths through a two-layer medium with refractive indices $\\nu_1 = 1.0$ and $\\nu_2 = 10.0$."
   ]
  },
  {
   "cell_type": "code",
   "execution_count": null,
   "metadata": {},
   "outputs": [],
   "source": [
    "# Run the experiment\n",
    "results = run_inhomogeneous_optimization_experiment()\n",
    "\n",
    "print(f\"Optimized optical path length: {results['optical_length']:.4f}\")\n",
    "print(f\"Snell's law optimal: {results['snell_optimal']:.4f}\")\n",
    "print(f\"Efficiency: {results['efficiency']:.2%}\")\n",
    "print(f\"Optimal crossing point: x = {results['optimal_crossing']:.4f} at y = 0.5\")"
   ]
  },
  {
   "cell_type": "markdown",
   "metadata": {},
   "source": [
    "## Visualize Results\n",
    "\n",
    "Compare the optimized path with the straight line and Snell's optimal path."
   ]
  },
  {
   "cell_type": "code",
   "execution_count": null,
   "metadata": {},
   "outputs": [],
   "source": [
    "plot_inhomogeneous_results(results)"
   ]
  },
  {
   "cell_type": "markdown",
   "metadata": {},
   "source": [
    "## Physical Interpretation\n",
    "\n",
    "The optimized path shows:\n",
    "1. **Bent trajectory at interface**: Like light refracting between media\n",
    "2. **Near-optimal performance**: Stigmergic agents discover Snell's law without explicit knowledge\n",
    "3. **Trade-off**: Longer geometric path but shorter optical path\n",
    "\n",
    "This demonstrates how collective intelligence can solve variational problems in physics.\n",
    "\n",
    "### Snell's Law Verification\n",
    "\n",
    "At the interface (y = 0.5), if $\\theta_1$ and $\\theta_2$ are the angles from the normal:\n",
    "\n",
    "$$\\frac{\\sin\\theta_1}{\\sin\\theta_2} = \\frac{\\nu_2}{\\nu_1} = 10$$\n",
    "\n",
    "The agent-discovered path approximately satisfies this relation!"
   ]
  }
 ],
 "metadata": {
  "kernelspec": {
   "display_name": "Python 3",
   "language": "python",
   "name": "python3"
  }
 },
 "nbformat": 4,
 "nbformat_minor": 4
}
