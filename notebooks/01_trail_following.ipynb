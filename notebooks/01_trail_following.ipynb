{
  "cells": [
    {
      "cell_type": "markdown",
      "metadata": {},
      "source": [
        "# Trail Following: Agent Navigation Along Pheromone Trails\n",
        "\n",
        "This notebook demonstrates how agents follow existing pheromone trails using gradient-based steering.\n",
        "\n",
        "## Theory\n",
        "\n",
        "Given a trail $\\mathbf{r}(s)$ that deposits pheromone with concentration $\\phi(\\mathbf{x})$, an agent at position $\\mathbf{x}$ with heading $\\theta$ experiences:\n",
        "\n",
        "$$\\frac{d\\theta}{dt} = \\beta \\nabla\\phi \\cdot \\hat{\\mathbf{n}} + \\sqrt{2D_\\theta} \\eta(t)$$\n",
        "\n",
        "where $\\hat{\\mathbf{n}} = (-\\sin\\theta, \\cos\\theta)$ is the normal vector, $\\beta$ is the trail-following strength, and $\\eta(t)$ is white noise.\n"
      ]
    },
    {
      "cell_type": "code",
      "execution_count": null,
      "metadata": {},
      "outputs": [],
      "source": [
        "# Import required modules\n",
        "import sys\n",
        "sys.path.append('../')\n",
        "\n",
        "from src.trail_following import (\n",
        "    run_trail_following_experiment,\n",
        "    plot_trail_following_results,\n",
        "    create_squiggly_line,\n",
        "    simulate_trail_following,\n",
        "    evaluate_trail_following_quality\n",
        ")\n",
        "\n",
        "import jax.numpy as jnp\n",
        "from jax import random\n",
        "import matplotlib.pyplot as plt\n",
        "import numpy as np\n"
      ]
    },
    {
      "cell_type": "markdown",
      "metadata": {},
      "source": [
        "## Run Complete Experiment\n",
        "\n",
        "The simplest way to see the implementation in action:\n"
      ]
    },
    {
      "cell_type": "code",
      "execution_count": null,
      "metadata": {},
      "outputs": [],
      "source": [
        "# Run the complete experiment\n",
        "trail, trajectory, quality = run_trail_following_experiment()\n",
        "\n",
        "print(f\"Trail following quality: {quality:.4f}\")\n",
        "print(f\"(Lower values indicate better trail following)\")\n",
        "\n",
        "# Visualize results\n",
        "point_a = jnp.array([0.0, 0.0])\n",
        "point_b = jnp.array([0.5, 1.0])\n",
        "plot_trail_following_results(trail, trajectory, point_a, point_b)\n"
      ]
    }
  ],
  "metadata": {
    "language_info": {
      "name": "python"
    }
  },
  "nbformat": 4,
  "nbformat_minor": 2
}
