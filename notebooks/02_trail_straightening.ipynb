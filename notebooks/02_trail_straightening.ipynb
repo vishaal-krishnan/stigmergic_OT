{
 "cells": [
  {
   "cell_type": "markdown",
   "metadata": {},
   "source": [
    "# Trail Straightening: Collective Path Optimization\n",
    "\n",
    "This notebook demonstrates how multiple agents collectively straighten wavy paths over iterations.\n",
    "\n",
    "## Theory\n",
    "\n",
    "When many agents follow and deposit pheromone, paths naturally straighten because:\n",
    "1. Each agent follows the existing trail with some noise\n",
    "2. The averaged trajectory is smoother than individual paths\n",
    "3. Iteration reinforces straighter segments more than curves\n",
    "\n",
    "This is an example of **stigmergic optimization** - collective improvement through environmental feedback."
   ]
  },
  {
   "cell_type": "code",
   "execution_count": null,
   "metadata": {},
   "outputs": [],
   "source": [
    "import sys\n",
    "sys.path.append('../')\n",
    "\n",
    "from src.trail_straightening import (\n",
    "    run_trail_straightening_experiment,\n",
    "    plot_trail_straightening_results\n",
    ")\n",
    "\n",
    "import matplotlib.pyplot as plt"
   ]
  },
  {
   "cell_type": "markdown",
   "metadata": {},
   "source": [
    "## Run Straightening Experiment\n",
    "\n",
    "Starting from a wavy trail, multiple agents iteratively follow and improve it."
   ]
  },
  {
   "cell_type": "code",
   "execution_count": null,
   "metadata": {},
   "outputs": [],
   "source": [
    "# Run the experiment\n",
    "results = run_trail_straightening_experiment()\n",
    "\n",
    "print(f\"Initial path efficiency: {results['initial_efficiency']:.4f}\")\n",
    "print(f\"Final path efficiency: {results['final_efficiency']:.4f}\")\n",
    "improvement = (1 - results['final_efficiency']/results['initial_efficiency']) * 100\n",
    "print(f\"Improvement: {improvement:.1f}%\")"
   ]
  },
  {
   "cell_type": "markdown",
   "metadata": {},
   "source": [
    "## Visualize Results\n",
    "\n",
    "See how the path evolves from wavy to straight."
   ]
  },
  {
   "cell_type": "code",
   "execution_count": null,
   "metadata": {},
   "outputs": [],
   "source": [
    "plot_trail_straightening_results(results)"
   ]
  },
  {
   "cell_type": "markdown",
   "metadata": {},
   "source": [
    "## Key Findings\n",
    "\n",
    "1. **Collective averaging reduces noise**: Multiple agents smooth out fluctuations\n",
    "2. **Iteration amplifies straightness**: Each cycle makes path more direct\n",
    "3. **Curvature spectrum shifts**: High-frequency oscillations decay faster\n",
    "\n",
    "This demonstrates how simple local rules (follow + deposit) lead to global optimization."
   ]
  }
 ],
 "metadata": {
  "kernelspec": {
   "display_name": "Python 3",
   "language": "python",
   "name": "python3"
  }
 },
 "nbformat": 4,
 "nbformat_minor": 4
}
